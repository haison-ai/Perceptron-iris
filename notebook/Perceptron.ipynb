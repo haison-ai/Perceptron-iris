{
 "cells": [
  {
   "metadata": {},
   "cell_type": "markdown",
   "source": "### In this notebook I want to explain how to work the binary classifier. First I want to show the Perceptron diagram. \n",
   "id": "e6b55683c03d599a"
  },
  {
   "metadata": {
    "ExecuteTime": {
     "end_time": "2024-09-09T21:51:46.480720Z",
     "start_time": "2024-09-09T21:51:46.477530Z"
    }
   },
   "cell_type": "code",
   "source": [
    "# import libraries.\n",
    "import numpy as np\n",
    "import matplotlib.pyplot as plt\n",
    "import seaborn as sns\n",
    "import pandas as pd"
   ],
   "id": "15e4fcd3b0961dcf",
   "outputs": [],
   "execution_count": 11
  },
  {
   "metadata": {
    "ExecuteTime": {
     "end_time": "2024-09-09T21:54:03.233493Z",
     "start_time": "2024-09-09T21:54:03.229311Z"
    }
   },
   "cell_type": "code",
   "source": "",
   "id": "fc5708cc4478bbbf",
   "outputs": [
    {
     "data": {
      "text/plain": [
       "array([[4, 5, 6],\n",
       "       [7, 8, 9]])"
      ]
     },
     "execution_count": 19,
     "metadata": {},
     "output_type": "execute_result"
    }
   ],
   "execution_count": 19
  }
 ],
 "metadata": {
  "kernelspec": {
   "display_name": "Python 3",
   "language": "python",
   "name": "python3"
  },
  "language_info": {
   "codemirror_mode": {
    "name": "ipython",
    "version": 2
   },
   "file_extension": ".py",
   "mimetype": "text/x-python",
   "name": "python",
   "nbconvert_exporter": "python",
   "pygments_lexer": "ipython2",
   "version": "2.7.6"
  }
 },
 "nbformat": 4,
 "nbformat_minor": 5
}
